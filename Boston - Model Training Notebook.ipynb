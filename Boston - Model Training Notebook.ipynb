{
 "cells": [
  {
   "cell_type": "markdown",
   "source": [
    "### Load data"
   ],
   "metadata": {}
  },
  {
   "cell_type": "code",
   "execution_count": 1,
   "source": [
    "from sklearn.datasets import load_boston\r\n",
    "\r\n",
    "data = load_boston()"
   ],
   "outputs": [
    {
     "output_type": "display_data",
     "data": {
      "text/plain": [
       "<IPython.core.display.Javascript object>"
      ],
      "application/javascript": "\n            setTimeout(function() {\n                var nbb_cell_id = 1;\n                var nbb_unformatted_code = \"%load_ext nb_black\\r\\nfrom sklearn.datasets import load_boston\\r\\ndata = load_boston()\";\n                var nbb_formatted_code = \"%load_ext nb_black\\nfrom sklearn.datasets import load_boston\\n\\ndata = load_boston()\";\n                var nbb_cells = Jupyter.notebook.get_cells();\n                for (var i = 0; i < nbb_cells.length; ++i) {\n                    if (nbb_cells[i].input_prompt_number == nbb_cell_id) {\n                        if (nbb_cells[i].get_text() == nbb_unformatted_code) {\n                             nbb_cells[i].set_text(nbb_formatted_code);\n                        }\n                        break;\n                    }\n                }\n            }, 500);\n            "
     },
     "metadata": {}
    }
   ],
   "metadata": {}
  },
  {
   "cell_type": "markdown",
   "source": [
    "### Train the model"
   ],
   "metadata": {}
  },
  {
   "cell_type": "code",
   "execution_count": 2,
   "source": [
    "from sklearn.model_selection import train_test_split\r\n",
    "from sklearn.linear_model import LinearRegression\r\n",
    "from sklearn import metrics\r\n",
    "\r\n",
    "X_train, X_test, y_train, y_test = train_test_split(data.data, data.target)\r\n",
    "\r\n",
    "\r\n",
    "regressor = LinearRegression()\r\n",
    "regressor.fit(X_train, y_train)\r\n",
    "predicted = regressor.predict(X_test)\r\n",
    "expected = y_test"
   ],
   "outputs": [
    {
     "output_type": "display_data",
     "data": {
      "text/plain": [
       "<IPython.core.display.Javascript object>"
      ],
      "application/javascript": "\n            setTimeout(function() {\n                var nbb_cell_id = 2;\n                var nbb_unformatted_code = \"from sklearn.model_selection import train_test_split\\r\\nfrom sklearn.linear_model import LinearRegression\\r\\nfrom sklearn import metrics\\r\\n\\r\\nX_train, X_test, y_train, y_test = train_test_split(data.data, data.target)\\r\\n\\r\\n\\r\\nregressor = LinearRegression()\\r\\nregressor.fit(X_train, y_train)\\r\\npredicted = regressor.predict(X_test)\\r\\nexpected = y_test\";\n                var nbb_formatted_code = \"from sklearn.model_selection import train_test_split\\nfrom sklearn.linear_model import LinearRegression\\nfrom sklearn import metrics\\n\\nX_train, X_test, y_train, y_test = train_test_split(data.data, data.target)\\n\\n\\nregressor = LinearRegression()\\nregressor.fit(X_train, y_train)\\npredicted = regressor.predict(X_test)\\nexpected = y_test\";\n                var nbb_cells = Jupyter.notebook.get_cells();\n                for (var i = 0; i < nbb_cells.length; ++i) {\n                    if (nbb_cells[i].input_prompt_number == nbb_cell_id) {\n                        if (nbb_cells[i].get_text() == nbb_unformatted_code) {\n                             nbb_cells[i].set_text(nbb_formatted_code);\n                        }\n                        break;\n                    }\n                }\n            }, 500);\n            "
     },
     "metadata": {}
    }
   ],
   "metadata": {}
  },
  {
   "cell_type": "markdown",
   "source": [
    "### Evaluating the model"
   ],
   "metadata": {}
  },
  {
   "cell_type": "code",
   "execution_count": 3,
   "source": [
    "r_squared = regressor.score(X_test, y_test)\r\n",
    "r_squared"
   ],
   "outputs": [
    {
     "output_type": "execute_result",
     "data": {
      "text/plain": [
       "0.8022188015606022"
      ]
     },
     "metadata": {},
     "execution_count": 3
    },
    {
     "output_type": "display_data",
     "data": {
      "text/plain": [
       "<IPython.core.display.Javascript object>"
      ],
      "application/javascript": "\n            setTimeout(function() {\n                var nbb_cell_id = 3;\n                var nbb_unformatted_code = \"r_squared = regressor.score(X_test, y_test)\\r\\nr_squared\";\n                var nbb_formatted_code = \"r_squared = regressor.score(X_test, y_test)\\nr_squared\";\n                var nbb_cells = Jupyter.notebook.get_cells();\n                for (var i = 0; i < nbb_cells.length; ++i) {\n                    if (nbb_cells[i].input_prompt_number == nbb_cell_id) {\n                        if (nbb_cells[i].get_text() == nbb_unformatted_code) {\n                             nbb_cells[i].set_text(nbb_formatted_code);\n                        }\n                        break;\n                    }\n                }\n            }, 500);\n            "
     },
     "metadata": {}
    }
   ],
   "metadata": {}
  },
  {
   "cell_type": "markdown",
   "source": [
    "### Deploying the model"
   ],
   "metadata": {}
  },
  {
   "cell_type": "code",
   "execution_count": 4,
   "source": [
    "import pickle\r\n",
    "\r\n",
    "# TO SAVE MODEL TO FILE\r\n",
    "with open(\"model.pkl\", \"wb\") as f:\r\n",
    "    pickle.dump(regressor, f)"
   ],
   "outputs": [
    {
     "output_type": "display_data",
     "data": {
      "text/plain": [
       "<IPython.core.display.Javascript object>"
      ],
      "application/javascript": "\n            setTimeout(function() {\n                var nbb_cell_id = 4;\n                var nbb_unformatted_code = \"import pickle\\r\\n\\r\\n# TO SAVE MODEL TO FILE\\r\\nwith open(\\\"model.pkl\\\", \\\"wb\\\") as f:\\r\\n    pickle.dump(regressor, f)\";\n                var nbb_formatted_code = \"import pickle\\n\\n# TO SAVE MODEL TO FILE\\nwith open(\\\"model.pkl\\\", \\\"wb\\\") as f:\\n    pickle.dump(regressor, f)\";\n                var nbb_cells = Jupyter.notebook.get_cells();\n                for (var i = 0; i < nbb_cells.length; ++i) {\n                    if (nbb_cells[i].input_prompt_number == nbb_cell_id) {\n                        if (nbb_cells[i].get_text() == nbb_unformatted_code) {\n                             nbb_cells[i].set_text(nbb_formatted_code);\n                        }\n                        break;\n                    }\n                }\n            }, 500);\n            "
     },
     "metadata": {}
    }
   ],
   "metadata": {}
  }
 ],
 "metadata": {
  "orig_nbformat": 4,
  "language_info": {
   "name": "python",
   "version": "3.7.3",
   "mimetype": "text/x-python",
   "codemirror_mode": {
    "name": "ipython",
    "version": 3
   },
   "pygments_lexer": "ipython3",
   "nbconvert_exporter": "python",
   "file_extension": ".py"
  },
  "kernelspec": {
   "name": "python3",
   "display_name": "Python 3.7.3 64-bit ('env': venv)"
  },
  "interpreter": {
   "hash": "e3c4450ecac8bf02f16a23d2a931d4152e137e31b4390830bdd2c81974751b9a"
  }
 },
 "nbformat": 4,
 "nbformat_minor": 2
}